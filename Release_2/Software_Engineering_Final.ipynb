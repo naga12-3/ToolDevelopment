{
 "cells": [
  {
   "cell_type": "code",
   "execution_count": 64,
   "id": "e6cf3e61",
   "metadata": {},
   "outputs": [],
   "source": [
    "import pandas as pd\n",
    "import numpy as np\n",
    "from sklearn.feature_extraction.text import CountVectorizer\n",
    "from sklearn.metrics.pairwise import cosine_similarity\n",
    "import re\n",
    "from nltk.tokenize import word_tokenize\n",
    "from nltk.stem import WordNetLemmatizer \n",
    "from nltk.corpus import stopwords\n",
    "from nltk.stem import PorterStemmer\n",
    "import numpy\n",
    "from gensim import corpora\n",
    "from gensim import corpora, models, similarities, downloader\n",
    "import operator"
   ]
  },
  {
   "cell_type": "code",
   "execution_count": 65,
   "id": "9de12dd8",
   "metadata": {},
   "outputs": [
    {
     "name": "stdout",
     "output_type": "stream",
     "text": [
      "Saved glove model\n",
      "Saved w2v model\n"
     ]
    }
   ],
   "source": [
    "from gensim.models import Word2Vec\n",
    "import gensim.downloader as api\n",
    "\n",
    "glove_model=None;\n",
    "try:\n",
    "    glove_model=gensim.models.KeyedVectors.load(\"./glovemodel.mod\")\n",
    "    print(\"Loaded glove model\")\n",
    "except:\n",
    "    glove_model=api.load(\"glove-twitter-25\")\n",
    "    glove_model.save(\"./glovemodel.mod\")\n",
    "    print(\"Saved glove model\")\n",
    "    \n",
    "\n",
    "v2w_model=None;\n",
    "try:\n",
    "    v2w__model=gensim.models.KeyedVectors.load(\"./w2vecmodel.mod\")\n",
    "    print(\"Loaded w2v model\")\n",
    "except:\n",
    "    v2w_model=api.load(\"word2vec-google-news-300\")\n",
    "    v2w_model.save(\"./w2vecmodel.mod\")\n",
    "    print(\"Saved w2v model\")\n",
    "    \n",
    "w2vec_embedding_size=len(v2w_model['computer'])\n",
    "glove_embdding_size=len(glove_model['computer'])"
   ]
  },
  {
   "cell_type": "code",
   "execution_count": 66,
   "id": "17f7baaa",
   "metadata": {},
   "outputs": [],
   "source": [
    "df=pd.read_csv(\"security_issues.csv\")"
   ]
  },
  {
   "cell_type": "code",
   "execution_count": 67,
   "id": "ce1ecd2e",
   "metadata": {},
   "outputs": [],
   "source": [
    "\n",
    "stop_words = stopwords.words('english')\n",
    "\n",
    "# import gensim\n",
    "# from gensim.parsing.preprocessing import remove_stopwords\n",
    "def remove_stopwords_fun(sentence):\n",
    "    #words=sentence.split(' ')\n",
    "    l=word_tokenize(sentence) # splitting into words\n",
    "    f=[]\n",
    "    for i in l:\n",
    "        if i not in stop_words:\n",
    "            f.append(i)\n",
    "    s=''\n",
    "    for i in f:\n",
    "        s=s+i+' '\n",
    "    return s\n",
    "    \n",
    "\n",
    "def clean_sentence(sentence,stopwords=False):\n",
    "    sentence=sentence.lower().strip()\n",
    "    sentence=re.sub(r'[^a-z0-9\\s]','',sentence)\n",
    "    if stopwords:\n",
    "        sentence=remove_stopwords_fun(sentence)\n",
    "    return sentence\n",
    "\n",
    "\n",
    "def get_cleaned_sentences(df,stopwords=False):\n",
    "    sents=df[['Issue']]\n",
    "    cleaned_sentences=[]\n",
    "    \n",
    "    for  index,row in df.iterrows():\n",
    "        cleaned=clean_sentence(row['Issue'],False)\n",
    "        cleaned_sentences.append(cleaned)\n",
    "    return cleaned_sentences\n",
    "\n"
   ]
  },
  {
   "cell_type": "code",
   "execution_count": 68,
   "id": "c6ebed95",
   "metadata": {},
   "outputs": [],
   "source": [
    "global dict1\n",
    "def retrieve_security(question_embedding, sen_emb, faqdf, sentences):\n",
    "    max_sim=-1\n",
    "    index_sim=-1\n",
    "    global dict1\n",
    "    dict1={}\n",
    "    matrix=[[0 for i in range(len(dictionary.items()))] for j in range(len(bow_corpus))]\n",
    "    in1=0\n",
    "    set1=set()\n",
    "    for index, embedding in enumerate(sen_emb):\n",
    "         sim=cosine_similarity(embedding,question_embedding)\n",
    "         in1=in1+1\n",
    "         #print(index, sim, sentences[index])\n",
    "         dict1.update({sentences[index]:sim})"
   ]
  },
  {
   "cell_type": "code",
   "execution_count": 69,
   "id": "20fd0445",
   "metadata": {},
   "outputs": [],
   "source": [
    "def getWordVec(word,model):\n",
    "    samp=model['computer']\n",
    "    vec=[0]*len(samp)\n",
    "    try:\n",
    "        vec=model[word]\n",
    "    except:\n",
    "        vec=[0]*len(samp)\n",
    "    return (vec)\n",
    "\n",
    "def getPhraseEmbedding(phrase,embeddingmodel):\n",
    "    samp=getWordVec('computer', embeddingmodel)\n",
    "    vec=numpy.array([0]*len(samp))\n",
    "    den=0\n",
    "    for word in phrase.split():\n",
    "        den=den+1\n",
    "        vec=vec+numpy.array(getWordVec(word,embeddingmodel))\n",
    "    return vec.reshape(1,-1)"
   ]
  },
  {
   "cell_type": "code",
   "execution_count": 70,
   "id": "77c91f59",
   "metadata": {},
   "outputs": [],
   "source": [
    "def know_link_from_issue(Issue):\n",
    "    i=0\n",
    "    for issues in df[\"Issue\"]:\n",
    "        if(clean_sentence(issues)==Issue):\n",
    "            break;\n",
    "        else:\n",
    "            i+=1;\n",
    "    return df[\"Link\"][i],df[\"Status\"][i]"
   ]
  },
  {
   "cell_type": "code",
   "execution_count": null,
   "id": "3202b44a",
   "metadata": {},
   "outputs": [],
   "source": [
    "def print_issues(dicti,num):\n",
    "    cd = sorted(dicti.items(),key=operator.itemgetter(1),reverse=True)\n",
    "    for index,i in enumerate(cd[ :num]):\n",
    "        #print(i)\n",
    "        print(index+1,i[0])\n",
    "        st=know_link_from_issue(i[0])\n",
    "        print(st[0],\" -- \",st[1])\n",
    "        print()"
   ]
  },
  {
   "cell_type": "code",
   "execution_count": 72,
   "id": "c02db179",
   "metadata": {},
   "outputs": [],
   "source": [
    "cleaned_sentences=get_cleaned_sentences(df,stopwords=False)\n",
    "sentences=cleaned_sentences\n",
    "sentence_words=[[word for word in document.split()] for document in sentences]\n",
    "\n",
    "\n",
    "\n",
    "dictionary=corpora.Dictionary(sentence_words)    \n",
    "bow_corpus=[dictionary.doc2bow(text) for text in sentence_words]"
   ]
  },
  {
   "cell_type": "code",
   "execution_count": 84,
   "id": "70ebad74",
   "metadata": {},
   "outputs": [
    {
     "name": "stdout",
     "output_type": "stream",
     "text": [
      "metamask not working\n",
      "1 metamask not working\n",
      "https://github.com/MetaMask/metamask-extension/issues/3506  --  closed\n",
      "\n",
      "2 apiparitychainstatus is not working in parityjs\n",
      "https://github.com/openethereum/parity-ethereum/issues/4326  --  closed\n",
      "\n",
      "3 ethsign may not be working\n",
      "https://github.com/MetaMask/metamask-extension/issues/1589  --  closed\n",
      "\n",
      "4 metamask does not work\n",
      "https://github.com/MetaMask/metamask-extension/issues/6315  --  closed\n",
      "\n",
      "5 not working properly with metamask\n",
      "https://github.com/trufflesuite/ganache/issues/340  --  closed\n",
      "\n",
      "6 metamask account not working\n",
      "https://github.com/MetaMask/metamask-extension/issues/9431  --  closed\n",
      "\n",
      "7 batchrequest is not working properly with metamask\n",
      "https://github.com/MetaMask/metamask-extension/issues/6796  --  closed\n",
      "\n",
      "8 metamask mobile not working on aave\n",
      "https://github.com/MetaMask/metamask-extension/issues/8391  --  closed\n",
      "\n",
      "9 events not working while using metamask\n",
      "https://github.com/MetaMask/metamask-extension/issues/2536  --  closed\n",
      "\n",
      "10 working with metamask\n",
      "https://github.com/EthWorks/ethereum.rb/issues/82  --  closed\n",
      "\n",
      "11 my metamask does not work at all\n",
      "https://github.com/MetaMask/metamask-extension/issues/4371  --  closed\n",
      "\n",
      "12 version 62x does not work good with ethersjs\n",
      "https://github.com/trufflesuite/ganache-cli/issues/598  --  closed\n",
      "\n",
      "13 ethereumwallet not working with parity\n",
      "https://github.com/ethereum/mist/issues/1659  --  closed\n",
      "\n",
      "14 model t not working with web3ethsign\n",
      "https://github.com/MetaMask/metamask-extension/issues/5021  --  closed\n",
      "\n",
      "15 5621 sign in is not working in superrare dapp\n",
      "https://github.com/status-im/status-react/issues/5622  --  closed\n",
      "\n"
     ]
    }
   ],
   "source": [
    "input_question=input()\n",
    "question_org=input_question\n",
    "question=clean_sentence(question_org,stopwords=False)\n",
    "question_embedding=dictionary.doc2bow(question.split())\n",
    "sent_embeddings=[]\n",
    "\n",
    "for sent in cleaned_sentences:\n",
    "    sent_embeddings.append(getPhraseEmbedding(sent,v2w_model))\n",
    "    #print(rohit)\n",
    "    \n",
    "question_embedding=getPhraseEmbedding(question,v2w_model)\n",
    "\n",
    "retrieve_security(question_embedding,sent_embeddings,df,cleaned_sentences)\n",
    "print_issues(dict1,15)\n"
   ]
  },
  {
   "cell_type": "code",
   "execution_count": null,
   "id": "d6028c47",
   "metadata": {},
   "outputs": [],
   "source": []
  },
  {
   "cell_type": "code",
   "execution_count": null,
   "id": "383f20ca",
   "metadata": {},
   "outputs": [],
   "source": []
  }
 ],
 "metadata": {
  "kernelspec": {
   "display_name": "Python 3",
   "language": "python",
   "name": "python3"
  },
  "language_info": {
   "codemirror_mode": {
    "name": "ipython",
    "version": 3
   },
   "file_extension": ".py",
   "mimetype": "text/x-python",
   "name": "python",
   "nbconvert_exporter": "python",
   "pygments_lexer": "ipython3",
   "version": "3.8.5"
  }
 },
 "nbformat": 4,
 "nbformat_minor": 5
}
